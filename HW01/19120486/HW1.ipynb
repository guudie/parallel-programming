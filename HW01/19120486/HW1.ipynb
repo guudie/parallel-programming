{
  "cells": [
    {
      "cell_type": "markdown",
      "metadata": {
        "id": "eGBgThS8q8k3"
      },
      "source": [
        "Họ tên: Nguyễn Trung Dũng\n",
        "\n",
        "MSSV: 19120486"
      ]
    },
    {
      "cell_type": "markdown",
      "metadata": {
        "id": "7qdrvDrCrnqz"
      },
      "source": [
        "# HW1: Giới thiệu CUDA"
      ]
    },
    {
      "cell_type": "markdown",
      "metadata": {
        "id": "VKXB0wA7yhq9"
      },
      "source": [
        "Với các GPU tương đối mới thì để biên dịch chỉ cần dùng câu lệnh: \\\n",
        "`nvcc tên-file.cu -o tên-file-chạy`\n",
        "\n",
        "Nhưng trên Colab mình thường lấy được GPU khá cũ là Tesla K80 với compute capability (phiên bản phần cứng) là 3.7; để biên dịch đúng với GPU khá cũ này thì bạn cần dùng câu lệnh: \\\n",
        "`nvcc -arch=sm_37 tên-file.cu -o tên-file-chạy` \\\n",
        "Trong đó, 37 chính là compute capability của GPU Tesla K80.\n",
        "\n",
        "Để phòng trường hợp khi làm bài bạn lấy được GPU có compute capability x.x nhưng khi chấm bài Thầy lại lấy được GPU có compute capability khác x.x, dưới đây mình sẽ có đoạn code Python để tự động lấy 2 con số ứng với compute capability của GPU và lưu vào 2 biến `major` và `minor`:\n"
      ]
    },
    {
      "cell_type": "code",
      "execution_count": 1,
      "metadata": {
        "id": "bCkmnirl2xWF",
        "colab": {
          "base_uri": "https://localhost:8080/"
        },
        "outputId": "364f673a-ec0f-4d74-fc27-d52da01bdd14"
      },
      "outputs": [
        {
          "output_type": "stream",
          "name": "stdout",
          "text": [
            "GPU compute capability: 7.5\n"
          ]
        }
      ],
      "source": [
        "from numba import cuda\n",
        "major, minor = cuda.get_current_device().compute_capability\n",
        "print(f'GPU compute capability: {major}.{minor}')"
      ]
    },
    {
      "cell_type": "markdown",
      "metadata": {
        "id": "Tq1-pmi72yS6"
      },
      "source": [
        "Một khi đã chạy đoạn code Python ở trên, để biên dịch thì bạn sẽ dùng câu lệnh: \\\n",
        "`nvcc -arch=sm_{major}{minor} tên-file.cu -o tên-file-chạy`"
      ]
    },
    {
      "cell_type": "markdown",
      "metadata": {
        "id": "QkZaH7EE-ocN"
      },
      "source": [
        "Dưới đây, khi làm bài thì bạn có thể tùy ý thêm/xóa cell. Đừng xóa mấy cell có chữ của Thầy là được."
      ]
    },
    {
      "cell_type": "markdown",
      "metadata": {
        "id": "DH9lSjFfr3Kw"
      },
      "source": [
        "## Câu 1"
      ]
    },
    {
      "cell_type": "code",
      "execution_count": 2,
      "metadata": {
        "id": "aZNqZuECjNso"
      },
      "outputs": [],
      "source": [
        "!nvcc -arch=sm_{major}{minor} HW1_P1.cu -o HW1_P1"
      ]
    },
    {
      "cell_type": "code",
      "execution_count": 3,
      "metadata": {
        "id": "NVFUj14OYUyy",
        "colab": {
          "base_uri": "https://localhost:8080/"
        },
        "outputId": "8969edb1-c3b2-483f-8ec1-1f93cade1285"
      },
      "outputs": [
        {
          "output_type": "stream",
          "name": "stdout",
          "text": [
            "Image size (width x height): 512 x 512\n",
            "\n",
            "Processing time (use host): 3.319872 ms\n",
            "\n",
            "GPU name: Tesla T4\n",
            "GPU compute capability: 7.5\n",
            "Processing time (use device): 0.908768 ms\n",
            "\n",
            "Error between device result and host result: 0.002674\n"
          ]
        }
      ],
      "source": [
        "!./HW1_P1 in.pnm out.pnm 16 16"
      ]
    },
    {
      "cell_type": "code",
      "source": [
        "!./HW1_P1 in.pnm out.pnm 32 32"
      ],
      "metadata": {
        "colab": {
          "base_uri": "https://localhost:8080/"
        },
        "id": "FC4knHhyBl_s",
        "outputId": "1301c69b-c812-439e-fc79-058a94f09fc8"
      },
      "execution_count": 4,
      "outputs": [
        {
          "output_type": "stream",
          "name": "stdout",
          "text": [
            "Image size (width x height): 512 x 512\n",
            "\n",
            "Processing time (use host): 2.234368 ms\n",
            "\n",
            "GPU name: Tesla T4\n",
            "GPU compute capability: 7.5\n",
            "Processing time (use device): 0.809472 ms\n",
            "\n",
            "Error between device result and host result: 0.002674\n"
          ]
        }
      ]
    },
    {
      "cell_type": "code",
      "source": [
        "!./HW1_P1 in.pnm out.pnm 64 64"
      ],
      "metadata": {
        "colab": {
          "base_uri": "https://localhost:8080/"
        },
        "id": "u7ENUiJiBo0v",
        "outputId": "29373590-ce7d-4cd4-f0f4-8f6944a6b3a1"
      },
      "execution_count": 5,
      "outputs": [
        {
          "output_type": "stream",
          "name": "stdout",
          "text": [
            "Image size (width x height): 512 x 512\n",
            "\n",
            "Processing time (use host): 2.236416 ms\n",
            "\n",
            "GPU name: Tesla T4\n",
            "GPU compute capability: 7.5\n",
            "Processing time (use device): 0.792960 ms\n",
            "\n",
            "Error between device result and host result: 119.969627\n"
          ]
        }
      ]
    },
    {
      "cell_type": "markdown",
      "metadata": {
        "id": "XlycLWxberDO"
      },
      "source": [
        "## Câu 2"
      ]
    },
    {
      "cell_type": "code",
      "execution_count": 6,
      "metadata": {
        "id": "gE-rY5TesEFe"
      },
      "outputs": [],
      "source": [
        "!nvcc -arch=sm_{major}{minor} HW1_P2.cu -o HW1_P2"
      ]
    },
    {
      "cell_type": "code",
      "execution_count": 7,
      "metadata": {
        "id": "GG1mOFWW7zlB",
        "colab": {
          "base_uri": "https://localhost:8080/"
        },
        "outputId": "73492c2d-e93b-4fd9-bf72-127bc684c32e"
      },
      "outputs": [
        {
          "output_type": "stream",
          "name": "stdout",
          "text": [
            "Image size (width x height): 512 x 512\n",
            "\n",
            "Processing time (use host): 264.923431 ms\n",
            "Error: 0.000000\n",
            "\n",
            "GPU name: Tesla T4\n",
            "GPU compute capability: 7.5\n",
            "Processing time (use device): 1.614368 ms\n",
            "Error: 0.000703\n",
            "\n"
          ]
        }
      ],
      "source": [
        "!./HW1_P2 in.pnm out2.pnm out2_target.pnm 16 16"
      ]
    },
    {
      "cell_type": "code",
      "source": [
        "!./HW1_P2 in.pnm out2.pnm out2_target.pnm 32 32"
      ],
      "metadata": {
        "colab": {
          "base_uri": "https://localhost:8080/"
        },
        "id": "XhrRKFIzCTrV",
        "outputId": "3d482b98-1303-4d94-cb9a-1ea802f82209"
      },
      "execution_count": 8,
      "outputs": [
        {
          "output_type": "stream",
          "name": "stdout",
          "text": [
            "Image size (width x height): 512 x 512\n",
            "\n",
            "Processing time (use host): 262.041595 ms\n",
            "Error: 0.000000\n",
            "\n",
            "GPU name: Tesla T4\n",
            "GPU compute capability: 7.5\n",
            "Processing time (use device): 1.528480 ms\n",
            "Error: 0.000703\n",
            "\n"
          ]
        }
      ]
    },
    {
      "cell_type": "code",
      "source": [
        "!./HW1_P2 in.pnm out2.pnm out2_target.pnm 64 64"
      ],
      "metadata": {
        "colab": {
          "base_uri": "https://localhost:8080/"
        },
        "id": "iaEa43bFCYYh",
        "outputId": "c11b5607-7996-4b3b-fa03-b15d56f23f67"
      },
      "execution_count": 9,
      "outputs": [
        {
          "output_type": "stream",
          "name": "stdout",
          "text": [
            "Image size (width x height): 512 x 512\n",
            "\n",
            "Processing time (use host): 273.853821 ms\n",
            "Error: 0.000000\n",
            "\n",
            "GPU name: Tesla T4\n",
            "GPU compute capability: 7.5\n",
            "Processing time (use device): 1.184736 ms\n",
            "Error: 124.033791\n",
            "\n"
          ]
        }
      ]
    }
  ],
  "metadata": {
    "accelerator": "GPU",
    "colab": {
      "collapsed_sections": [],
      "provenance": []
    },
    "kernelspec": {
      "display_name": "Python 3",
      "name": "python3"
    }
  },
  "nbformat": 4,
  "nbformat_minor": 0
}